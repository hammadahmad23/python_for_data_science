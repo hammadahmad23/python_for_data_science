{
 "cells": [
  {
   "cell_type": "raw",
   "id": "523618e5",
   "metadata": {},
   "source": [
    " "
   ]
  },
  {
   "cell_type": "markdown",
   "id": "0162ed50",
   "metadata": {},
   "source": [
    "CHAPTER-1 \n",
    "\n",
    "HI PYTHON\n",
    "\n"
   ]
  },
  {
   "cell_type": "markdown",
   "id": "1e82dd9a",
   "metadata": {},
   "source": [
    "FEATURES OF PYTHON\n",
    "1. Easy to understand \n",
    "2. Less development time\n",
    "3. Free and open source \n",
    "4. High level language\n",
    "\n",
    "INSTALLATION \n",
    "\n",
    "You can install latest version of python from www.python.org\n",
    "I prefer Jupyter Notebook for coding.\n",
    "\n",
    "MODULES\n",
    "\n",
    "A module is a file consist of code in python written by somebody else. Every module in python is a library of functions.\n",
    "We can use these functions in our code, for this we must import a module first in the beginning of code. A module in python\n",
    "ends with '.py'.\n",
    "\n",
    "COMMENTS\n",
    "\n",
    "Comments are statement written within the code and about the code. They doesn't execute with the code.\n",
    "In my words a comment is \"a part of the code but it isn't the code\". You also use comment if you dont want to execute a part or a line of code.\n",
    "\n",
    "1. Use # before any line , turns that line into a comment in python\n",
    "2. Use \"\"\" your multiline code\"\"\" for multiline comment"
   ]
  },
  {
   "cell_type": "code",
   "execution_count": 15,
   "id": "b1442bd2",
   "metadata": {},
   "outputs": [
    {
     "name": "stdout",
     "output_type": "stream",
     "text": [
      "Hello World!\n",
      "Hello World!\n"
     ]
    }
   ],
   "source": [
    "#your first python output that old and classic i.e print Hello World!\n",
    "print(\"Hello World!\") #1\n",
    "print('Hello World!') #2"
   ]
  },
  {
   "cell_type": "markdown",
   "id": "155c1bf6",
   "metadata": {},
   "source": [
    "Did you notice the difference ?\n",
    "\n",
    "Hello World is a sequence of characters. There are two ways to represent a sequence of characters in python.\n",
    "\n",
    "1. A sequence of characters is enclosed with single quotes ' '.\n",
    "2. A sequence of characters is enclosed with double quotes \" \".\n",
    "\n",
    "Both the ways (single or double quotes) are correct depending upon the requirement.\n",
    "\n",
    "we will understand this through an example."
   ]
  },
  {
   "cell_type": "code",
   "execution_count": 16,
   "id": "854d1d0e",
   "metadata": {},
   "outputs": [
    {
     "name": "stdout",
     "output_type": "stream",
     "text": [
      "We're going to visit disney land in 2050\n",
      "it's my choice\n"
     ]
    }
   ],
   "source": [
    "print(\"We're going to visit disney land in 2050\")\n",
    "print(\"it's my choice\")"
   ]
  },
  {
   "cell_type": "code",
   "execution_count": 17,
   "id": "4e6e478e",
   "metadata": {},
   "outputs": [
    {
     "ename": "SyntaxError",
     "evalue": "invalid syntax (<ipython-input-17-db15d685f584>, line 1)",
     "output_type": "error",
     "traceback": [
      "\u001b[1;36m  File \u001b[1;32m\"<ipython-input-17-db15d685f584>\"\u001b[1;36m, line \u001b[1;32m1\u001b[0m\n\u001b[1;33m    print('We're going to visit disney land in 2050')\u001b[0m\n\u001b[1;37m              ^\u001b[0m\n\u001b[1;31mSyntaxError\u001b[0m\u001b[1;31m:\u001b[0m invalid syntax\n"
     ]
    }
   ],
   "source": [
    "print('We're going to visit disney land in 2050')"
   ]
  },
  {
   "cell_type": "code",
   "execution_count": 18,
   "id": "056d39db",
   "metadata": {},
   "outputs": [
    {
     "ename": "SyntaxError",
     "evalue": "invalid syntax (<ipython-input-18-581b2005e1d2>, line 1)",
     "output_type": "error",
     "traceback": [
      "\u001b[1;36m  File \u001b[1;32m\"<ipython-input-18-581b2005e1d2>\"\u001b[1;36m, line \u001b[1;32m1\u001b[0m\n\u001b[1;33m    print('it's my choice')\u001b[0m\n\u001b[1;37m              ^\u001b[0m\n\u001b[1;31mSyntaxError\u001b[0m\u001b[1;31m:\u001b[0m invalid syntax\n"
     ]
    }
   ],
   "source": [
    "print('it's my choice')"
   ]
  },
  {
   "cell_type": "markdown",
   "id": "5be5e5e4",
   "metadata": {},
   "source": [
    "Did you notice the difference ?\n",
    "\n",
    "1. If there is a single quote mark in our sequence of character and if we try to print it using single quotes. \n",
    "Then after executing the code it with throw syntax error . Example: print('it's my choice').\n",
    "2. If there is a single quote mark in our sequence of character and if we try to print it using double quotes.\n",
    "Then your code works perfectly. Example: print(\"it's my choice\").\n",
    "3. If there is no single quote present in our sequence of character. Then both ways of print() works perfectly.\n",
    "                                                                          \n",
    "Syntax of print() function:\n",
    "\n",
    "1. print(\"your sequence of character\")\n",
    "\n",
    "2. print('your sequence of character')"
   ]
  },
  {
   "cell_type": "code",
   "execution_count": null,
   "id": "89b7a1ce",
   "metadata": {},
   "outputs": [],
   "source": []
  }
 ],
 "metadata": {
  "kernelspec": {
   "display_name": "Python 3",
   "language": "python",
   "name": "python3"
  },
  "language_info": {
   "codemirror_mode": {
    "name": "ipython",
    "version": 3
   },
   "file_extension": ".py",
   "mimetype": "text/x-python",
   "name": "python",
   "nbconvert_exporter": "python",
   "pygments_lexer": "ipython3",
   "version": "3.8.8"
  }
 },
 "nbformat": 4,
 "nbformat_minor": 5
}
